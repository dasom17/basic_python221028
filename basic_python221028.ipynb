{
  "nbformat": 4,
  "nbformat_minor": 0,
  "metadata": {
    "colab": {
      "provenance": [],
      "collapsed_sections": [],
      "authorship_tag": "ABX9TyOzgRcBeOzNt7bjrZ30zG2e",
      "include_colab_link": true
    },
    "kernelspec": {
      "name": "python3",
      "display_name": "Python 3"
    },
    "language_info": {
      "name": "python"
    }
  },
  "cells": [
    {
      "cell_type": "markdown",
      "metadata": {
        "id": "view-in-github",
        "colab_type": "text"
      },
      "source": [
        "<a href=\"https://colab.research.google.com/github/dasom17/basic_python221028/blob/main/basic_python221028.ipynb\" target=\"_parent\"><img src=\"https://colab.research.google.com/assets/colab-badge.svg\" alt=\"Open In Colab\"/></a>"
      ]
    },
    {
      "cell_type": "markdown",
      "source": [
        "1. 사용자로부터 두 개의 정수를 받아서 정수의 합 정수의 차 정수의 곱 졍수의 펑균, 큰 수 작은 수를 계산하여 화면에 출럭하는 프로그랩을 작셩하라. 파이썬이 제공하는 내장 함수 max(x, y), min(x, y)을 사용해보자."
      ],
      "metadata": {
        "id": "JHdzr01HaSGa"
      }
    },
    {
      "cell_type": "code",
      "execution_count": 3,
      "metadata": {
        "colab": {
          "base_uri": "https://localhost:8080/"
        },
        "id": "yS8clg9ZZI5-",
        "outputId": "a4417b8d-369c-41b0-8d1c-38e72dde265f"
      },
      "outputs": [
        {
          "output_type": "stream",
          "name": "stdout",
          "text": [
            "x의 값은?9\n",
            "y의 값은?6\n",
            "두 수의 합은 : 15\n",
            "두 수의 차는 : 3\n",
            "두 수의 곱은 : 54\n",
            "두 수의 평균은 : 7.5\n",
            "큰 수는? : 9\n",
            "작은 수는? : 6\n"
          ]
        }
      ],
      "source": [
        "x=int(input(\"x의 값은?\"))\n",
        "y=int(input(\"y의 값은?\"))\n",
        "\n",
        "print(\"두 수의 합은 :\", x+y)\n",
        "print(\"두 수의 차는 :\", x-y)\n",
        "print(\"두 수의 곱은 :\", x*y)\n",
        "print(\"두 수의 평균은 :\", (x+y)/2)\n",
        "print(\"큰 수는? :\", max(x,y))\n",
        "print(\"작은 수는? :\", min(x,y))"
      ]
    },
    {
      "cell_type": "markdown",
      "source": [
        "2. 원기둥의 부피를 계산하는 프로그랩을 작성해보자. 원기둥의 부피는 다옴과 같이 계산 한다"
      ],
      "metadata": {
        "id": "LN4zFhOud9tA"
      }
    },
    {
      "cell_type": "code",
      "source": [
        "r = float(input(\"r의 값은?: \"))\n",
        "h = float(input(\"h의 값은?: \"))\n",
        "\n",
        "vol = 3.141592 * r**2 * h\n",
        "print(\"원기둥의 부피:\" ,vol)"
      ],
      "metadata": {
        "colab": {
          "base_uri": "https://localhost:8080/"
        },
        "id": "ajlIbeM6a3Xj",
        "outputId": "177cc5a8-9b6b-4656-da94-df9d789bc562"
      },
      "execution_count": 12,
      "outputs": [
        {
          "output_type": "stream",
          "name": "stdout",
          "text": [
            "r의 값은?: 10\n",
            "h의 값은?: 10\n",
            "원기둥의 부피: 3141.592\n"
          ]
        }
      ]
    },
    {
      "cell_type": "markdown",
      "source": [
        "3. 사용자로부터 정수를 받아서 정수의 자러수의 합을 계산하는 프로그랩을 작성하여 보 . 예릍 들어서 사용자가 1234를 입럭하였다면 1+2+3+4를 계산하면 된다. 나머지 연산자와 정수 나눗셈 연산자 //를 적극적으로 사용해보자.\n",
        "\n",
        "<힌트> 1의 자리수는 number % 10으로 계산할 수 있다. 10의 자리수는 number = number // 10한 후 에 등일한 처리를 되풀이 한다. 단 반복문은 사용하지 않는다."
      ],
      "metadata": {
        "id": "TeZZO8LqenJf"
      }
    },
    {
      "cell_type": "code",
      "source": [
        "number = int(input(\"정수를 입력하시오: \"))\n",
        "\n",
        "sum = 0\n",
        "#코딩은 초기화가 중요함. 꼭 초기화해주기\n",
        "sum = sum + number % 10\n",
        "number = number // 10\n",
        "sum = sum + number % 10\n",
        "number = number // 10\n",
        "sum = sum + number % 10\n",
        "number = number // 10\n",
        "sum = sum + number % 10\n",
        "number = number // 10\n",
        "\n",
        "print(\"자리수의 합은: \", str(sum))"
      ],
      "metadata": {
        "colab": {
          "base_uri": "https://localhost:8080/"
        },
        "id": "7nVZQr9EfJlo",
        "outputId": "007f9447-7bb8-4aec-cc12-4b9a6d3b7644"
      },
      "execution_count": 4,
      "outputs": [
        {
          "output_type": "stream",
          "name": "stdout",
          "text": [
            "정수를 입력하시오: 1234\n",
            "자리수의 합은:  10\n"
          ]
        }
      ]
    },
    {
      "cell_type": "markdown",
      "source": [
        "사용자로부터 투 점의 좌표 (xl, yl)과 (x2, y2)를 입럭받아서 두 점 사이의 거리를 계산하는 프로그램을 작셩해보자. 스크립트 모드로 작성하라. 거리는 다음 식으로 계산한다."
      ],
      "metadata": {
        "id": "wgcD3RF5hivp"
      }
    },
    {
      "cell_type": "code",
      "source": [
        "x1 = int(input(\"x1의 값을 입력하시오.: \"))\n",
        "x2 = int(input(\"x2의 값을 입력하시오.: \"))\n",
        "y1 = int(input(\"y1의 값을 입력하시오.: \"))\n",
        "y2 = int(input(\"y2의 값을 입력하시오.: \"))\n",
        "dist = (((x2 - x1)**2) + ((y2 - y1)**2))** 0.5\n",
        "print(\"두 점 사이의 거리는?\", dist, \"입니다.\")"
      ],
      "metadata": {
        "colab": {
          "base_uri": "https://localhost:8080/"
        },
        "id": "vQ_qNXpXh5zR",
        "outputId": "146841d6-ae4d-4a1e-cfd6-cd9267369a7a"
      },
      "execution_count": 11,
      "outputs": [
        {
          "output_type": "stream",
          "name": "stdout",
          "text": [
            "x1의 값을 입력하시오.: 0\n",
            "x2의 값을 입력하시오.: 100\n",
            "y1의 값을 입력하시오.: 0\n",
            "y2의 값을 입력하시오.: 100\n",
            "두 점 사이의 거리는? 141.4213562373095 입니다.\n"
          ]
        }
      ]
    },
    {
      "cell_type": "markdown",
      "source": [
        "1번 문제에서 계산한 거리가 맞는지, 터틀그래픽으로 확인해보자. 거북이를 읜쪽으로 45도 회전하여 141만큼 젼진시킨다. 다시 거북이를 (0, 0)으로 이동하고 0도를 가리키게 한 후에 100만큼 전진하고 왼쪽으로 90도 회전하여 \n",
        "100만큼 전진한다. 화면에 그려진 직선이 일치하는가?"
      ],
      "metadata": {
        "id": "RM3Ab2-RnOkn"
      }
    },
    {
      "cell_type": "code",
      "source": [
        "import turtle\n",
        "t = turtle.Turtle()\n",
        "t.shape(\"turtle\")\n",
        "t.left(45)\n",
        "t.fd(141)\n",
        "t.setheading(0)\n",
        "t.goto(0,0)\n",
        "t.fd(100)\n",
        "t.lt(90)\n",
        "t.fd(90)"
      ],
      "metadata": {
        "id": "QGu-OiC2mQNc"
      },
      "execution_count": null,
      "outputs": []
    },
    {
      "cell_type": "markdown",
      "source": [
        "사용자로부터 두 점을 입력받아서 터틀 그래픽을 이용하여 두 점을 연결하는 직선을 그린다. 직선의 끝점에 직선의 길이를 계산하여 츨력해보자."
      ],
      "metadata": {
        "id": "mNbN3utxphmV"
      }
    },
    {
      "cell_type": "code",
      "source": [
        "import turtle\n",
        "t = turtle.Turtle()\n",
        "t.shape(\"turtle\")\n",
        "x1 = int(input(x1:))"
      ],
      "metadata": {
        "id": "jAvdyGe9pydh"
      },
      "execution_count": null,
      "outputs": []
    }
  ]
}